{
 "cells": [
  {
   "cell_type": "code",
   "execution_count": 1,
   "id": "264d023d",
   "metadata": {},
   "outputs": [],
   "source": [
    "import cv2\n",
    "import mediapipe as mp\n",
    "import time"
   ]
  },
  {
   "cell_type": "code",
   "execution_count": 57,
   "id": "4ba2fe0f",
   "metadata": {},
   "outputs": [],
   "source": [
    "class FaceMashDetector():\n",
    "    def __init__(self,staticMode=False,maxFace=2,minDetectionCon=0.5,minTrackCon=0.5):\n",
    "        self.staticMode=staticMode\n",
    "        self.maxFace=maxFace\n",
    "        self.minDetectionCon=minDetectionCon\n",
    "        self.minTrackCon=minTrackCon\n",
    "        self.mpDraw=mp.solutions.drawing_utils\n",
    "        self.mpFaceMesh=mp.solutions.face_mesh\n",
    "        self.faceMesh = self.mpFaceMesh.FaceMesh(static_image_mode=self.staticMode,max_num_faces=self.maxFace,min_detection_confidence=self.minDetectionCon,min_tracking_confidence=self.minTrackCon)\n",
    "        self.drawSpec=self.mpDraw.DrawingSpec(thickness=1,circle_radius=1)\n",
    "    def findFaceMesh(self,img,draw=True):\n",
    "        self.imgRGB=cv2.cvtColor(img,cv2.COLOR_BGR2RGB)\n",
    "        self.results= self.faceMesh.process(self.imgRGB)\n",
    "        faces=[]\n",
    "        if self.results.multi_face_landmarks:\n",
    "            for faceLms in self.results.multi_face_landmarks:\n",
    "                self.mpDraw.draw_landmarks(img,faceLms,self.mpFaceMesh.FACEMESH_CONTOURS,self.drawSpec,self.drawSpec) \n",
    "            face=[]\n",
    "            for id,lm in enumerate(faceLms.landmark):\n",
    "                ih,iw,ic=img.shape\n",
    "                x,y=int(lm.x*iw),int(lm.y*ih)\n",
    "                cv2.putText(img,str(id),(x,y),cv2.FONT_HERSHEY_PLAIN,0.2,(0,255,0),1)\n",
    "                face.append([x,y])\n",
    "            faces.append(face)\n",
    "        return img,faces"
   ]
  },
  {
   "cell_type": "code",
   "execution_count": 58,
   "id": "185e1692",
   "metadata": {},
   "outputs": [],
   "source": [
    "def main():\n",
    "    cap = cv2.VideoCapture(r\"C:\\\\Users\\\\Shriniwas\\\\Desktop\\\\video.mp4\")\n",
    "    pTime=0\n",
    "    detector=FaceMashDetector()\n",
    "    while True:\n",
    "        success,img=cap.read()\n",
    "        down_width = 900\n",
    "        down_height = 700\n",
    "        down_points = (down_width, down_height)\n",
    "        img = cv2.resize(img, down_points, interpolation= cv2.INTER_LINEAR)\n",
    "        img,faces=detector.findFaceMesh(img)\n",
    "        cTime=time.time()\n",
    "        fps=1/(cTime-pTime)\n",
    "        pTime=cTime\n",
    "        cv2.putText(img,str(int(fps)),(10,70),cv2.FONT_HERSHEY_PLAIN,3,(255,0,255),3)\n",
    "        cv2.imshow('Image',img)\n",
    "        if cv2.waitKey(1) & 0xFF == ord('q'):\n",
    "                break\n",
    "        #cv2.waitKey(1)\n",
    "    cap.release()\n",
    "    cv2.destroyAllWindows()\n",
    "if __name__=='__main__':\n",
    "    main()"
   ]
  },
  {
   "cell_type": "code",
   "execution_count": null,
   "id": "4d6dcdd3",
   "metadata": {},
   "outputs": [],
   "source": []
  }
 ],
 "metadata": {
  "kernelspec": {
   "display_name": "Python 3 (ipykernel)",
   "language": "python",
   "name": "python3"
  },
  "language_info": {
   "codemirror_mode": {
    "name": "ipython",
    "version": 3
   },
   "file_extension": ".py",
   "mimetype": "text/x-python",
   "name": "python",
   "nbconvert_exporter": "python",
   "pygments_lexer": "ipython3",
   "version": "3.9.12"
  }
 },
 "nbformat": 4,
 "nbformat_minor": 5
}
